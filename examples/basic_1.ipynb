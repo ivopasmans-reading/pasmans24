{
 "cells": [
  {
   "cell_type": "markdown",
   "id": "3c5106d3",
   "metadata": {},
   "source": [
    "## Illustrate usage of DAPPER to (interactively) run a synthetic (\"twin\") experiment."
   ]
  },
  {
   "cell_type": "markdown",
   "id": "fe5f6628",
   "metadata": {},
   "source": [
    "#### Imports\n",
    "<b>NB:</b> On <mark><b>Gooble Colab</b></mark>,\n",
    "*replace* `%matplotlib notebook` (right below) by\\\n",
    "`!python -m pip install git+https://github.com/nansencenter/DAPPER.git`"
   ]
  },
  {
   "cell_type": "code",
   "execution_count": null,
   "id": "89f5e089",
   "metadata": {},
   "outputs": [],
   "source": [
    "%matplotlib notebook\n",
    "from mpl_tools import is_notebook_or_qt as nb"
   ]
  },
  {
   "cell_type": "code",
   "execution_count": null,
   "id": "fc681615",
   "metadata": {},
   "outputs": [],
   "source": [
    "import dapper as dpr\n",
    "import dapper.da_methods as da"
   ]
  },
  {
   "cell_type": "markdown",
   "id": "9f2603ed",
   "metadata": {},
   "source": [
    "#### Load experiment setup: the hidden Markov model (HMM)"
   ]
  },
  {
   "cell_type": "code",
   "execution_count": null,
   "id": "6f84209e",
   "metadata": {},
   "outputs": [],
   "source": [
    "from dapper.mods.Lorenz63.sakov2012 import HMM"
   ]
  },
  {
   "cell_type": "markdown",
   "id": "7afbdeb6",
   "metadata": {},
   "source": [
    "#### Generate the same random numbers each time this script is run"
   ]
  },
  {
   "cell_type": "code",
   "execution_count": null,
   "id": "0e74274d",
   "metadata": {},
   "outputs": [],
   "source": [
    "dpr.set_seed(3000)"
   ]
  },
  {
   "cell_type": "markdown",
   "id": "2ce9b72c",
   "metadata": {},
   "source": [
    "#### Simulate synthetic truth (xx) and noisy obs (yy)"
   ]
  },
  {
   "cell_type": "code",
   "execution_count": null,
   "id": "c54bcca2",
   "metadata": {},
   "outputs": [],
   "source": [
    "HMM.tseq.T = 30  # shorten experiment\n",
    "xx, yy = HMM.simulate()"
   ]
  },
  {
   "cell_type": "markdown",
   "id": "3c40799e",
   "metadata": {},
   "source": [
    "#### Specify a DA method configuration (\"xp\" is short for \"experiment\")"
   ]
  },
  {
   "cell_type": "code",
   "execution_count": null,
   "id": "b39ebe02",
   "metadata": {},
   "outputs": [],
   "source": [
    "# xp = da.OptInterp()\n",
    "# xp = da.Var3D()\n",
    "# xp = da.ExtKF(infl=90)\n",
    "xp = da.EnKF('Sqrt', N=10, infl=1.02, rot=True)\n",
    "# xp = da.PartFilt(N=100, reg=2.4, NER=0.3)"
   ]
  },
  {
   "cell_type": "markdown",
   "id": "08f20322",
   "metadata": {},
   "source": [
    "#### Assimilate yy, knowing the HMM; xx is used to assess the performance"
   ]
  },
  {
   "cell_type": "code",
   "execution_count": null,
   "id": "0a0ea6ff",
   "metadata": {},
   "outputs": [],
   "source": [
    "xp.assimilate(HMM, xx, yy, liveplots=not nb)"
   ]
  },
  {
   "cell_type": "markdown",
   "id": "18ff2a15",
   "metadata": {},
   "source": [
    "#### Average the time series of various statistics"
   ]
  },
  {
   "cell_type": "code",
   "execution_count": null,
   "id": "a7f6fb40",
   "metadata": {},
   "outputs": [],
   "source": [
    "# print(xp.stats)  # ⇒ long printout\n",
    "xp.stats.average_in_time()"
   ]
  },
  {
   "cell_type": "markdown",
   "id": "842ad66b",
   "metadata": {},
   "source": [
    "#### Print some of these time-averages"
   ]
  },
  {
   "cell_type": "code",
   "execution_count": null,
   "id": "cc4e9955",
   "metadata": {},
   "outputs": [],
   "source": [
    "# print(xp.avrgs)  # ⇒ long printout\n",
    "print(xp.avrgs.tabulate(['rmse.a', 'rmv.a']))"
   ]
  },
  {
   "cell_type": "markdown",
   "id": "f130c09b",
   "metadata": {},
   "source": [
    "#### Replay liveplotters"
   ]
  },
  {
   "cell_type": "code",
   "execution_count": null,
   "id": "a7ebf5e6",
   "metadata": {},
   "outputs": [],
   "source": [
    "xp.stats.replay(\n",
    "    # speed=.6  # `speed` does not work in notebooks\n",
    ")"
   ]
  },
  {
   "cell_type": "markdown",
   "id": "6335abba",
   "metadata": {},
   "source": [
    "#### Further diagnostic plots"
   ]
  },
  {
   "cell_type": "code",
   "execution_count": null,
   "id": "450a7fc1",
   "metadata": {},
   "outputs": [],
   "source": [
    "if nb:\n",
    "    import dapper.tools.viz as viz\n",
    "    viz.plot_rank_histogram(xp.stats)\n",
    "    viz.plot_err_components(xp.stats)\n",
    "    viz.plot_hovmoller(xx)"
   ]
  },
  {
   "cell_type": "markdown",
   "id": "51a3c22f",
   "metadata": {},
   "source": [
    "#### Explore objects"
   ]
  },
  {
   "cell_type": "code",
   "execution_count": null,
   "id": "70fa4918",
   "metadata": {},
   "outputs": [],
   "source": [
    "if nb:\n",
    "    print(xp)"
   ]
  },
  {
   "cell_type": "code",
   "execution_count": null,
   "id": "3274e3b1",
   "metadata": {},
   "outputs": [],
   "source": [
    "if nb:\n",
    "    print(HMM)"
   ]
  },
  {
   "cell_type": "markdown",
   "id": "ad85889d",
   "metadata": {},
   "source": [
    "#### Excercise: Why are the replay plots not as smooth as the liveplot?\n",
    "*Hint*: provide the keyword `store_u=True` to `assimilate()` to avoid this."
   ]
  },
  {
   "cell_type": "markdown",
   "id": "28da7fdb",
   "metadata": {},
   "source": [
    "#### Excercise: Why does the replay only contain the blue lines?"
   ]
  },
  {
   "cell_type": "markdown",
   "id": "304273d1",
   "metadata": {},
   "source": [
    "#### Excercise: Try out each of the above DA methods (currently commented out).\n",
    "Next, remove the call to `replay`, and set `liveplots=False` above.\n",
    "Now, use the iterative EnKS (`iEnKS`), and try to find a parameter combination\n",
    "for it so that you achieve a lower `rmse.a` than with the `PartFilt`.\n",
    "\n",
    "*Hint*: In general, there is no free lunch. Similarly, not all methods work\n",
    "for all problems; additionally, methods often have parameters that require\n",
    "tuning. Luckily, in DAPPER, you should be able to find suitably tuned\n",
    "configuration settings for various DA methods *in the files that define the\n",
    "HMM*. If you do not find a suggested configuration for a given method, you\n",
    "will have to tune it yourself. The example script `basic_2` shows how DAPPER\n",
    "facilitates the tuning process, and `basic_3` takes this further."
   ]
  },
  {
   "cell_type": "markdown",
   "id": "de2e51e4",
   "metadata": {},
   "source": [
    "#### Excercise: Run an experiment for each of these models\n",
    "- LotkaVolterra\n",
    "- Lorenz96\n",
    "- LA\n",
    "- QG"
   ]
  },
  {
   "cell_type": "markdown",
   "id": "bee8dfc6",
   "metadata": {},
   "source": [
    "#### Excercise: Printing other diagnostics.\n",
    "- Create a new code cell, and copy-paste the above `print(...tabulate)`\n",
    "  command into it. Then, replace `rmse` by `err.rms`. This should yield\n",
    "  the same printout, as is merely an abbreviation of the latter.\n",
    "- Next, figure out how to print the time average *forecast (i.e. prior)* error\n",
    "  (and `rmv`) instead. Explain (in broad terms) why the values are larger than\n",
    "  for the *analysis* values.\n",
    "- Finally, instead of the `rms` spatial/field averages,\n",
    "  print the regular mean (`.m`) averages. Explain why `err.m` is nearly zero,\n",
    "  in contrast to `err.rms`."
   ]
  }
 ],
 "metadata": {
  "jupytext": {
   "cell_metadata_filter": "-all",
   "formats": "auto:light,ipynb",
   "main_language": "python",
   "notebook_metadata_filter": "-all"
  },
  "kernelspec": {
   "display_name": "Python 3 (ipykernel)",
   "language": "python",
   "name": "python3"
  },
  "language_info": {
   "codemirror_mode": {
    "name": "ipython",
    "version": 3
   },
   "file_extension": ".py",
   "mimetype": "text/x-python",
   "name": "python",
   "nbconvert_exporter": "python",
   "pygments_lexer": "ipython3",
   "version": "3.9.16"
  }
 },
 "nbformat": 4,
 "nbformat_minor": 5
}
