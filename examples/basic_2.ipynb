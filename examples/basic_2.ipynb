{
 "cells": [
  {
   "cell_type": "markdown",
   "id": "cf1f0bba",
   "metadata": {},
   "source": [
    "## Illustrate usage of DAPPER to benchmark multiple DA methods."
   ]
  },
  {
   "cell_type": "markdown",
   "id": "e60a67d5",
   "metadata": {},
   "source": [
    "#### Imports\n",
    "<b>NB:</b> If you're on <mark><b>Gooble Colab</b></mark>,\n",
    "then replace `%matplotlib notebook` below by\\\n",
    "`!python -m pip install git+https://github.com/nansencenter/DAPPER.git`\\\n",
    "Also note that liveplotting does not work on Colab."
   ]
  },
  {
   "cell_type": "code",
   "execution_count": null,
   "id": "b1c0d97d",
   "metadata": {},
   "outputs": [],
   "source": [
    "%matplotlib notebook\n",
    "import dapper as dpr\n",
    "import dapper.da_methods as da"
   ]
  },
  {
   "cell_type": "markdown",
   "id": "eb670f13",
   "metadata": {},
   "source": [
    "#### DA method configurations"
   ]
  },
  {
   "cell_type": "code",
   "execution_count": null,
   "id": "15a0f770",
   "metadata": {},
   "outputs": [],
   "source": [
    "from dapper.mods.Lorenz63.sakov2012 import HMM  # Expected rmse.a:\n",
    "xps = dpr.xpList()\n",
    "xps += da.Climatology()                                      # 7.6\n",
    "xps += da.OptInterp()                                        # 1.25\n",
    "xps += da.Persistence()                                      # 10.7\n",
    "xps += da.PreProg(lambda k, xx, yy: xx[k])                   # 0\n",
    "xps += da.Var3D(xB=0.1)                                      # 1.03\n",
    "xps += da.ExtKF(infl=90)                                     # 0.87\n",
    "xps += da.EnKF('Sqrt'   , N=3   , infl=1.30)                 # 0.82\n",
    "xps += da.EnKF('Sqrt'   , N=10  , infl=1.02, rot=True)       # 0.63\n",
    "xps += da.EnKF('PertObs', N=500 , infl=0.95, rot=False)      # 0.56\n",
    "xps += da.EnKF_N(         N=10             , rot=True)       # 0.54\n",
    "xps += da.iEnKS('Sqrt'  , N=10  , infl=1.02, rot=True)       # 0.31\n",
    "xps += da.PartFilt(       N=100 , reg=2.4  , NER=0.3)        # 0.38\n",
    "xps += da.PartFilt(       N=800 , reg=0.9  , NER=0.2)        # 0.28\n",
    "# xps += da.PartFilt(       N=4000, reg=0.7  , NER=0.05)       # 0.27\n",
    "# xps += da.PFxN(xN=1000,   N=30  , Qs=2     , NER=0.2)        # 0.56"
   ]
  },
  {
   "cell_type": "markdown",
   "id": "f127ebc2",
   "metadata": {},
   "source": [
    "#### With Lorenz-96 instead"
   ]
  },
  {
   "cell_type": "code",
   "execution_count": null,
   "id": "e665575f",
   "metadata": {},
   "outputs": [],
   "source": [
    "# from dapper.mods.Lorenz96.sakov2008 import HMM   # Expected rmse.a:\n",
    "# xps = dpr.xpList()\n",
    "# xps += da.Climatology()                                     # 3.6\n",
    "# xps += da.OptInterp()                                       # 0.95\n",
    "# xps += da.Var3D(xB=0.02)                                    # 0.41\n",
    "# xps += da.ExtKF(infl=6)                                     # 0.24\n",
    "# xps += da.EnKF('PertObs', N=40, infl=1.06)                  # 0.22\n",
    "# xps += da.EnKF('Sqrt'   , N=28, infl=1.02, rot=True)        # 0.18\n",
    "# # More sophisticated:\n",
    "# xps += da.EnKF_N(         N=24, rot=True)                   # 0.21\n",
    "# xps += da.EnKF_N(         N=24, rot=True, xN=2)             # 0.18\n",
    "# xps += da.iEnKS('Sqrt'  , N=40, infl=1.01, rot=True)        # 0.17\n",
    "# # With localisation:\n",
    "# xps += da.LETKF(          N=7 , infl=1.04, rot=True, loc_rad=4)  # 0.22\n",
    "# xps += da.SL_EAKF(        N=7 , infl=1.07, rot=True, loc_rad=6)  # 0.23"
   ]
  },
  {
   "cell_type": "markdown",
   "id": "44557676",
   "metadata": {},
   "source": [
    "#### Other models (suitable xp's listed in HMM files):"
   ]
  },
  {
   "cell_type": "code",
   "execution_count": null,
   "id": "7929298c",
   "metadata": {},
   "outputs": [],
   "source": [
    "# from dapper.mods.LA           .evensen2009 import HMM\n",
    "# from dapper.mods.KS           .bocquet2019 import HMM\n",
    "# from dapper.mods.LotkaVolterra.settings101 import HMM"
   ]
  },
  {
   "cell_type": "markdown",
   "id": "d8deb761",
   "metadata": {},
   "source": [
    "#### Launch"
   ]
  },
  {
   "cell_type": "markdown",
   "id": "5cc4d721",
   "metadata": {},
   "source": [
    "Write some more non-arg parameters to the `xps`. In this case we set the seed,\n",
    "so that repeat experiments produce exactly the same result."
   ]
  },
  {
   "cell_type": "code",
   "execution_count": null,
   "id": "8b903ed3",
   "metadata": {},
   "outputs": [],
   "source": [
    "for xp in xps:\n",
    "    xp.seed = 3000"
   ]
  },
  {
   "cell_type": "markdown",
   "id": "3237c124",
   "metadata": {},
   "source": [
    "Adjust experiment duration"
   ]
  },
  {
   "cell_type": "code",
   "execution_count": null,
   "id": "07722c35",
   "metadata": {},
   "outputs": [],
   "source": [
    "HMM.tseq.T = 50"
   ]
  },
  {
   "cell_type": "markdown",
   "id": "cc49da09",
   "metadata": {},
   "source": [
    "Run/assimilate (for each `xp` in `xps`)"
   ]
  },
  {
   "cell_type": "code",
   "execution_count": null,
   "id": "b24e7557",
   "metadata": {},
   "outputs": [],
   "source": [
    "save_as = xps.launch(HMM, liveplots=False)"
   ]
  },
  {
   "cell_type": "markdown",
   "id": "7e44ffe8",
   "metadata": {},
   "source": [
    "#### Print results"
   ]
  },
  {
   "cell_type": "code",
   "execution_count": null,
   "id": "8bd94fa0",
   "metadata": {},
   "outputs": [],
   "source": [
    "print(xps.tabulate_avrgs())"
   ]
  }
 ],
 "metadata": {
  "jupytext": {
   "cell_metadata_filter": "-all",
   "formats": "auto:light,ipynb",
   "main_language": "python",
   "notebook_metadata_filter": "-all"
  },
  "kernelspec": {
   "display_name": "Python 3 (ipykernel)",
   "language": "python",
   "name": "python3"
  },
  "language_info": {
   "codemirror_mode": {
    "name": "ipython",
    "version": 3
   },
   "file_extension": ".py",
   "mimetype": "text/x-python",
   "name": "python",
   "nbconvert_exporter": "python",
   "pygments_lexer": "ipython3",
   "version": "3.9.16"
  }
 },
 "nbformat": 4,
 "nbformat_minor": 5
}
